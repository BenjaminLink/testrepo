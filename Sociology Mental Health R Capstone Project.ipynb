{
    "cells": [
        {
            "cell_type": "markdown",
            "metadata": {},
            "source": "Canadian Health Survey 2014"
        },
        {
            "cell_type": "code",
            "execution_count": 1,
            "metadata": {},
            "outputs": [
                {
                    "data": {
                        "text/html": "<div>\n<style scoped>\n    .dataframe tbody tr th:only-of-type {\n        vertical-align: middle;\n    }\n\n    .dataframe tbody tr th {\n        vertical-align: top;\n    }\n\n    .dataframe thead th {\n        text-align: right;\n    }\n</style>\n<table border=\"1\" class=\"dataframe\">\n  <thead>\n    <tr style=\"text-align: right;\">\n      <th></th>\n      <th>VERDATE</th>\n      <th>ADM_RNO</th>\n      <th>GEOGPRV</th>\n      <th>GEODPMF</th>\n      <th>GEODBCHA</th>\n      <th>ADM_PRX</th>\n      <th>ADM_N09</th>\n      <th>ADM_N10</th>\n      <th>ADM_N11</th>\n      <th>DHHGAGE</th>\n      <th>...</th>\n      <th>FSCDAFS2</th>\n      <th>FSCDCFS2</th>\n      <th>INCG2</th>\n      <th>INCG7</th>\n      <th>INCGHH</th>\n      <th>INCGPER</th>\n      <th>INCDRCA</th>\n      <th>INCDRPR</th>\n      <th>INCDRRS</th>\n      <th>WTS_M</th>\n    </tr>\n  </thead>\n  <tbody>\n    <tr>\n      <th>0</th>\n      <td>20150326</td>\n      <td>1</td>\n      <td>46</td>\n      <td>46901</td>\n      <td>9996</td>\n      <td>2</td>\n      <td>6</td>\n      <td>1</td>\n      <td>6</td>\n      <td>10</td>\n      <td>...</td>\n      <td>6</td>\n      <td>6</td>\n      <td>3</td>\n      <td>6</td>\n      <td>2</td>\n      <td>3</td>\n      <td>3</td>\n      <td>3</td>\n      <td>3</td>\n      <td>124.02</td>\n    </tr>\n    <tr>\n      <th>1</th>\n      <td>20150326</td>\n      <td>2</td>\n      <td>24</td>\n      <td>24906</td>\n      <td>9996</td>\n      <td>2</td>\n      <td>1</td>\n      <td>1</td>\n      <td>6</td>\n      <td>12</td>\n      <td>...</td>\n      <td>0</td>\n      <td>6</td>\n      <td>3</td>\n      <td>6</td>\n      <td>4</td>\n      <td>5</td>\n      <td>8</td>\n      <td>8</td>\n      <td>9</td>\n      <td>759.70</td>\n    </tr>\n    <tr>\n      <th>2</th>\n      <td>20150326</td>\n      <td>3</td>\n      <td>35</td>\n      <td>35995</td>\n      <td>9996</td>\n      <td>2</td>\n      <td>2</td>\n      <td>1</td>\n      <td>6</td>\n      <td>12</td>\n      <td>...</td>\n      <td>0</td>\n      <td>6</td>\n      <td>1</td>\n      <td>6</td>\n      <td>3</td>\n      <td>4</td>\n      <td>5</td>\n      <td>5</td>\n      <td>6</td>\n      <td>1714.40</td>\n    </tr>\n    <tr>\n      <th>3</th>\n      <td>20150326</td>\n      <td>4</td>\n      <td>35</td>\n      <td>35965</td>\n      <td>9996</td>\n      <td>2</td>\n      <td>2</td>\n      <td>1</td>\n      <td>6</td>\n      <td>5</td>\n      <td>...</td>\n      <td>0</td>\n      <td>6</td>\n      <td>1</td>\n      <td>1</td>\n      <td>4</td>\n      <td>4</td>\n      <td>8</td>\n      <td>8</td>\n      <td>8</td>\n      <td>917.95</td>\n    </tr>\n    <tr>\n      <th>4</th>\n      <td>20150326</td>\n      <td>5</td>\n      <td>60</td>\n      <td>60901</td>\n      <td>9996</td>\n      <td>2</td>\n      <td>9</td>\n      <td>9</td>\n      <td>9</td>\n      <td>11</td>\n      <td>...</td>\n      <td>6</td>\n      <td>6</td>\n      <td>9</td>\n      <td>6</td>\n      <td>2</td>\n      <td>3</td>\n      <td>96</td>\n      <td>96</td>\n      <td>96</td>\n      <td>55.82</td>\n    </tr>\n  </tbody>\n</table>\n<p>5 rows \u00d7 1129 columns</p>\n</div>",
                        "text/plain": "    VERDATE  ADM_RNO  GEOGPRV  GEODPMF  GEODBCHA  ADM_PRX  ADM_N09  ADM_N10  \\\n0  20150326        1       46    46901      9996        2        6        1   \n1  20150326        2       24    24906      9996        2        1        1   \n2  20150326        3       35    35995      9996        2        2        1   \n3  20150326        4       35    35965      9996        2        2        1   \n4  20150326        5       60    60901      9996        2        9        9   \n\n   ADM_N11  DHHGAGE  ...  FSCDAFS2  FSCDCFS2  INCG2  INCG7  INCGHH  INCGPER  \\\n0        6       10  ...         6         6      3      6       2        3   \n1        6       12  ...         0         6      3      6       4        5   \n2        6       12  ...         0         6      1      6       3        4   \n3        6        5  ...         0         6      1      1       4        4   \n4        9       11  ...         6         6      9      6       2        3   \n\n   INCDRCA  INCDRPR  INCDRRS    WTS_M  \n0        3        3        3   124.02  \n1        8        8        9   759.70  \n2        5        5        6  1714.40  \n3        8        8        8   917.95  \n4       96       96       96    55.82  \n\n[5 rows x 1129 columns]"
                    },
                    "execution_count": 1,
                    "metadata": {},
                    "output_type": "execute_result"
                }
            ],
            "source": "# The code was removed by Watson Studio for sharing."
        },
        {
            "cell_type": "code",
            "execution_count": null,
            "metadata": {},
            "outputs": [],
            "source": ""
        }
    ],
    "metadata": {
        "kernelspec": {
            "display_name": "Python 3.6",
            "language": "python",
            "name": "python3"
        },
        "language_info": {
            "codemirror_mode": {
                "name": "ipython",
                "version": 3
            },
            "file_extension": ".py",
            "mimetype": "text/x-python",
            "name": "python",
            "nbconvert_exporter": "python",
            "pygments_lexer": "ipython3",
            "version": "3.6.9"
        }
    },
    "nbformat": 4,
    "nbformat_minor": 1
}